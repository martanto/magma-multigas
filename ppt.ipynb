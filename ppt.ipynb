{
 "cells": [
  {
   "cell_type": "code",
   "id": "initial_id",
   "metadata": {
    "collapsed": true
   },
   "source": [
    "from magma_multigas import MultiGas\n",
    "from magma_multigas import PlotAvailability\n",
    "import os"
   ],
   "outputs": [],
   "execution_count": null
  },
  {
   "metadata": {},
   "cell_type": "code",
   "source": [
    "types = {\n",
    "    'two_seconds' : 'Two Seconds',\n",
    "    'six_hours' : 'Six Hours',\n",
    "    'one_minute' : 'One Minute',\n",
    "    'zero' : 'Zero',\n",
    "}"
   ],
   "id": "181f24aa92fd8080",
   "outputs": [],
   "execution_count": null
  },
  {
   "metadata": {},
   "cell_type": "code",
   "source": [
    "volcanoes = [\n",
    "    {\n",
    "        'volcano': 'Ijen',\n",
    "        'dir': 'ijen',\n",
    "        'data': MultiGas(\n",
    "            two_seconds=\"D:\\\\Data\\\\Multigas\\\\Ijen\\\\CR1000XSeries_ChemData_Sec2.dat\",\n",
    "            six_hours=\"D:\\\\Data\\\\Multigas\\\\Ijen\\\\CR1000XSeries_Data_6Hr.dat\",\n",
    "            one_minute=\"D:\\\\Data\\\\Multigas\\\\Ijen\\\\CR1000XSeries_Wx_Min1.dat\",\n",
    "            zero=\"D:\\\\Data\\\\Multigas\\\\Ijen\\\\CR1000XSeries_Zero_Data.dat\",\n",
    "            normalize_dir='ijen',\n",
    "        )\n",
    "    },\n",
    "    {\n",
    "        'volcano': 'Tangkuban Parahu',\n",
    "        'dir': 'tangkuban_parahu',\n",
    "        'data': MultiGas(\n",
    "            two_seconds=\"D:\\\\Data\\\\Multigas\\\\Tangkuban Parahu\\\\TANG_RTU_ChemData_Sec2.dat\",\n",
    "            six_hours=\"D:\\\\Data\\\\Multigas\\\\Tangkuban Parahu\\\\TANG_RTU_Data_6Hr.dat\",\n",
    "            one_minute=\"D:\\\\Data\\\\Multigas\\\\Tangkuban Parahu\\\\TANG_RTU_Wx_Min1.dat\",\n",
    "            zero=\"D:\\\\Data\\\\Multigas\\\\Tangkuban Parahu\\\\TANG_RTU_Zero_Data.dat\",\n",
    "            normalize_dir='tangkuban_parahu',\n",
    "        )\n",
    "    },\n",
    "    {\n",
    "        'volcano': 'Dieng',\n",
    "        'dir': 'dieng',\n",
    "        'data': MultiGas(\n",
    "            six_hours=\"D:\\\\Data\\\\Multigas\\\\Dieng\\\\CR1000XSeries_Data_6Hr.dat\",\n",
    "            one_minute=\"D:\\\\Data\\\\Multigas\\\\Dieng\\\\CR1000XSeries_ChemData_Min1.dat\",\n",
    "            zero=\"D:\\\\Data\\\\Multigas\\\\Dieng\\\\CR1000XSeries_Zero_Data.dat\",\n",
    "            normalize_dir='dieng',\n",
    "            data_length=192,\n",
    "            overwrite=True\n",
    "        )\n",
    "    }\n",
    "]"
   ],
   "id": "565321166ce87c4",
   "outputs": [],
   "execution_count": null
  },
  {
   "metadata": {},
   "cell_type": "code",
   "source": [
    "for volcano in volcanoes:\n",
    "    availability = volcano['data'].extract_daily(volcano['dir'])\n",
    "    for key in types.keys():\n",
    "        csv_availability = f\"D:\\\\Projects\\\\magma-multigas\\\\output\\\\availability\\\\{volcano['dir']}\\\\{key}.csv\"\n",
    "        if os.path.exists(csv_availability):\n",
    "            plot = PlotAvailability(\n",
    "                csv_availability=csv_availability,\n",
    "                title=f\"{volcano['volcano']} - {types[key]}\"\n",
    "            )\n",
    "            plot.save()"
   ],
   "id": "4f2b7b2d23ce2396",
   "outputs": [],
   "execution_count": null
  }
 ],
 "metadata": {
  "kernelspec": {
   "display_name": "Python 3",
   "language": "python",
   "name": "python3"
  },
  "language_info": {
   "codemirror_mode": {
    "name": "ipython",
    "version": 2
   },
   "file_extension": ".py",
   "mimetype": "text/x-python",
   "name": "python",
   "nbconvert_exporter": "python",
   "pygments_lexer": "ipython2",
   "version": "2.7.6"
  }
 },
 "nbformat": 4,
 "nbformat_minor": 5
}
